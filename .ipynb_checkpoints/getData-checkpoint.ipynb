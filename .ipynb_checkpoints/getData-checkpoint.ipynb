{
 "cells": [
  {
   "cell_type": "code",
   "execution_count": 1,
   "id": "89bb8538",
   "metadata": {},
   "outputs": [
    {
     "name": "stdout",
     "output_type": "stream",
     "text": [
      "Enter your ID: 1\n",
      "Enter your Name: Do Tu\n"
     ]
    }
   ],
   "source": [
    "import cv2\n",
    "import numpy as np\n",
    "import sqlite3\n",
    "import os\n",
    "\n",
    "def insertOrUpdate(id, name):\n",
    "    conn = sqlite3.connect('E:\\\\Tai lieu hoc tap\\\\DB SQLite\\\\data.db')\n",
    "    \n",
    "    query = \"SELECT * FROM people WHERE ID= \"+ str(id)\n",
    "    cursor = conn.execute(query)\n",
    "    \n",
    "    #neu co id roi thi =1, k co thi update\n",
    "    isRecordExist = 0 \n",
    "    \n",
    "    #kiem tra ban ghi, neu co thay = 1\n",
    "    for row in cursor: \n",
    "        isRecordExist = 1\n",
    "    \n",
    "    if(isRecordExist == 0):\n",
    "        query = \"INSERT INTO people(ID, Name) VALUES(\"+str(id)+\",'\"+str(name)+\"')\"\n",
    "    else:\n",
    "        query = \"UPDATE people SET Name='\"+str(name)+\"' WHERE ID = \"+str(id)\n",
    "    \n",
    "    conn.execute(query)\n",
    "    conn.commit()\n",
    "    conn.close()\n",
    "\n",
    "sampleNum=0\n",
    "    \n",
    "#load tv\n",
    "face_cascade = cv2.CascadeClassifier(cv2.data.haarcascades + \"haarcascade_frontalface_alt.xml\")\n",
    "\n",
    "#truy cap camera\n",
    "cap = cv2.VideoCapture(0)\n",
    "\n",
    "#insert to db\n",
    "id = input(\"Enter your ID: \")\n",
    "name = input(\"Enter your Name: \")\n",
    "insertOrUpdate(id, name)\n",
    "\n",
    "while(True):\n",
    "    ret, frame = cap.read() #lay du lieu tu camera\n",
    "    gray = cv2.cvtColor(frame, cv2.COLOR_BGR2GRAY) #chuyen mau`\n",
    "    faces = face_cascade.detectMultiScale(gray, 1.3, 5)\n",
    "    for (x, y, w, h) in faces:\n",
    "        cv2.rectangle(frame, (x,y), (x+w,y+h), (0,255,0), 2)\n",
    "        \n",
    "        if not os.path.exists('dataSet'):\n",
    "            os.makedirs('dataSet')\n",
    "            \n",
    "        sampleNum +=1\n",
    "        #luu anh vao trong file\n",
    "        cv2.imwrite('dataSet/User.'+str(id)+'.'+str(sampleNum)+'.jpg', gray[y: y+h, x: x+w])\n",
    "    cv2.imshow('frame',frame)\n",
    "    cv2.waitKey(1)\n",
    "    \n",
    "    if sampleNum >200:\n",
    "        break\n",
    "            \n",
    "cap.release()\n",
    "cv2.destroyAllWindows()"
   ]
  },
  {
   "cell_type": "code",
   "execution_count": null,
   "id": "936d7dc3",
   "metadata": {},
   "outputs": [],
   "source": []
  }
 ],
 "metadata": {
  "kernelspec": {
   "display_name": "Python 3",
   "language": "python",
   "name": "python3"
  },
  "language_info": {
   "codemirror_mode": {
    "name": "ipython",
    "version": 3
   },
   "file_extension": ".py",
   "mimetype": "text/x-python",
   "name": "python",
   "nbconvert_exporter": "python",
   "pygments_lexer": "ipython3",
   "version": "3.8.8"
  }
 },
 "nbformat": 4,
 "nbformat_minor": 5
}
