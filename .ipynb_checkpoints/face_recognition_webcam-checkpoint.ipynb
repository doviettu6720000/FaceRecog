{
 "cells": [
  {
   "cell_type": "code",
   "execution_count": 1,
   "id": "6a31d916",
   "metadata": {},
   "outputs": [
    {
     "name": "stdout",
     "output_type": "stream",
     "text": [
      "[[242 147 195 195]]\n"
     ]
    },
    {
     "data": {
      "text/plain": [
       "\"for(x,y,w,h) in faces:\\n        cv2.rectangle(frame, (x,y), (x+w, y+h), (0,255,0), 2)\\n    cv2.imshow('DETECTING FACE', frame)\\n    \\n    #dieu kien de thoat vong true\\n    if(cv2.waitKey(1) & 0xFF == ord('q')):\\n        break\\n    \\ncap.release() #giai phong bo nho\\ncv2.destroyAllWindows() #tat ct\""
      ]
     },
     "execution_count": 1,
     "metadata": {},
     "output_type": "execute_result"
    }
   ],
   "source": [
    "import cv2\n",
    "import numpy as np\n",
    "\n",
    "#lay file nhan dien mat\n",
    "face_cascade = cv2.CascadeClassifier(cv2.data.haarcascades + \"haarcascade_frontalface_alt.xml\")\n",
    "\n",
    "#lay webcam\n",
    "cap = cv2.VideoCapture(0)\n",
    "\n",
    "while(True):\n",
    "    ret, frame = cap.read()\n",
    "    gray = cv2.cvtColor(frame, cv2.COLOR_BGR2GRAY) #doi mau\n",
    "    faces = face_cascade.detectMultiScale(gray) #lay khuon mat\n",
    "    print(faces)\n",
    "    for(x,y,w,h) in faces:\n",
    "        cv2.rectangle(frame, (x,y), (x+w, y+h), (0,255,0), 2)\n",
    "        cv2.imshow('DETECTING FACE', frame)\n",
    "    \n",
    "    #dieu kien de thoat vong true\n",
    "    if(cv2.waitKey(1) & 0xFF == ord('q')):\n",
    "        break\n",
    "    \n",
    "cap.release() #giai phong bo nho\n",
    "cv2.destroyAllWindows() #tat ct'''    "
   ]
  },
  {
   "cell_type": "code",
   "execution_count": null,
   "id": "cc0e8929",
   "metadata": {},
   "outputs": [],
   "source": []
  }
 ],
 "metadata": {
  "kernelspec": {
   "display_name": "Python 3",
   "language": "python",
   "name": "python3"
  },
  "language_info": {
   "codemirror_mode": {
    "name": "ipython",
    "version": 3
   },
   "file_extension": ".py",
   "mimetype": "text/x-python",
   "name": "python",
   "nbconvert_exporter": "python",
   "pygments_lexer": "ipython3",
   "version": "3.8.8"
  }
 },
 "nbformat": 4,
 "nbformat_minor": 5
}
